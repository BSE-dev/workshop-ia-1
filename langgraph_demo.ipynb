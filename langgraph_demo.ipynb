{
 "cells": [
  {
   "cell_type": "markdown",
   "metadata": {},
   "source": [
    "# This notebook to test Saadi's conversational agent's features"
   ]
  },
  {
   "cell_type": "markdown",
   "metadata": {},
   "source": [
    "## Check conversational agent graph"
   ]
  },
  {
   "cell_type": "code",
   "execution_count": null,
   "metadata": {},
   "outputs": [],
   "source": [
    "from IPython.display import Image, display # type: ignore\n",
    "from conv_agent import graph\n",
    "\n",
    "display(Image(graph.get_graph().draw_mermaid_png()))"
   ]
  },
  {
   "cell_type": "markdown",
   "metadata": {},
   "source": [
    "## Create a LangGraph assistant\n",
    "\n",
    "Instantiate the graph using a configuration (makes it an Assistant)."
   ]
  },
  {
   "cell_type": "code",
   "execution_count": null,
   "metadata": {},
   "outputs": [],
   "source": [
    "# Connect to the LangGraph server and create an assistant\n",
    "from langgraph_sdk import get_client # type: ignore\n",
    "\n",
    "client = get_client(url=\"http://localhost:2024\")\n",
    "\n",
    "assistant = await client.assistants.create(\n",
    "    # graph name from langgraph.json\n",
    "    graph_id=\"conv_agent\",\n",
    "    config={\n",
    "        \"recursion_limit\": 1000000000,\n",
    "        \"configurable\": {}\n",
    "    },\n",
    "    name=\"conv_agent_assistant\"\n",
    ")\n",
    "assistant_id = assistant[\"assistant_id\"]\n",
    "print(f\"Assistant created: {assistant_id}\")\n"
   ]
  },
  {
   "cell_type": "markdown",
   "metadata": {},
   "source": [
    "## Create a LangGraph thread to manage conversation state\n",
    "\n",
    "Allocating a thread_id to an assistant's run provides it with memory of its\n",
    " state between interactions (the list of messages from the user and from the agent)."
   ]
  },
  {
   "cell_type": "code",
   "execution_count": null,
   "metadata": {},
   "outputs": [],
   "source": [
    "# Create a thread to persist conversation state between runs\n",
    "thread = await client.threads.create()\n",
    "thread_id = thread[\"thread_id\"]\n",
    "print(f\"Thread created: {thread_id}\")"
   ]
  },
  {
   "cell_type": "markdown",
   "metadata": {},
   "source": [
    "## Begin chatting with the assistant using the thread_id"
   ]
  },
  {
   "cell_type": "code",
   "execution_count": null,
   "metadata": {},
   "outputs": [],
   "source": [
    "user_input = {\n",
    "    \"messages\": [\n",
    "        {\n",
    "            \"role\": \"user\",\n",
    "            \"content\": \"Salut. Moi c'est Pierre, et toi, qui es-tu?\"\n",
    "        }\n",
    "    ]\n",
    "}\n",
    "\n",
    "async for chunk in client.runs.stream(\n",
    "    thread_id=thread_id,\n",
    "    assistant_id=assistant_id,\n",
    "    input=user_input,\n",
    "    stream_mode=[\"updates\"]\n",
    "):\n",
    "    if chunk.event == \"updates\":\n",
    "        print(chunk.data[\"chatbot\"][\"messages\"][0][\"content\"])"
   ]
  },
  {
   "cell_type": "markdown",
   "metadata": {},
   "source": [
    "## Continue chatting, but using LangGraph's streaming built-in feature"
   ]
  },
  {
   "cell_type": "code",
   "execution_count": null,
   "metadata": {},
   "outputs": [],
   "source": [
    "user_input = {\n",
    "    \"messages\": [\n",
    "        {\n",
    "            \"role\": \"user\",\n",
    "            \"content\": \"Re-dis moi: qui suis-je?.\"\n",
    "        }\n",
    "    ]\n",
    "}\n",
    "\n",
    "async for chunk in client.runs.stream(\n",
    "    thread_id=thread_id,\n",
    "    assistant_id=assistant_id,\n",
    "    input=user_input,\n",
    "    stream_mode=[\"messages\"]\n",
    "):\n",
    "    if chunk.event == \"messages/partial\":\n",
    "        print(chunk.data[0][\"content\"])"
   ]
  },
  {
   "cell_type": "markdown",
   "metadata": {},
   "source": [
    "## Utility streaming function"
   ]
  },
  {
   "cell_type": "code",
   "execution_count": null,
   "metadata": {},
   "outputs": [],
   "source": [
    "async def stream_graph_updates(user_input: str):\n",
    "    async for chunk in client.runs.stream(\n",
    "        thread_id=thread_id,\n",
    "        assistant_id=assistant_id,\n",
    "        input={\"messages\": [{\"role\": \"user\", \"content\": user_input}]},\n",
    "        stream_mode=[\"updates\"]\n",
    "    ):\n",
    "        if chunk.event == \"updates\" and chunk.data.get(\"chatbot\"):\n",
    "            print(chunk.data[\"chatbot\"][\"messages\"][0][\"content\"])\n"
   ]
  },
  {
   "cell_type": "markdown",
   "metadata": {},
   "source": [
    "## Chat loop (\"quit\", \"exit\" or \"q\" to break out)"
   ]
  },
  {
   "cell_type": "code",
   "execution_count": null,
   "metadata": {},
   "outputs": [],
   "source": [
    "# Infinite conversational loop\n",
    "while True:\n",
    "    try:\n",
    "        user_input = input(\"User: \")\n",
    "        if user_input.lower() in [\"quit\", \"exit\", \"q\"]:\n",
    "            print(\"Goodbye!\")\n",
    "            break\n",
    "\n",
    "        await stream_graph_updates(user_input)\n",
    "    except:\n",
    "        # fallback if input() is not available\n",
    "        user_input = \"What do you know about LangGraph?\"\n",
    "        print(\"User: \" + user_input)\n",
    "        await stream_graph_updates(user_input)\n",
    "        break"
   ]
  },
  {
   "cell_type": "markdown",
   "metadata": {},
   "source": [
    "## Check conversational agent with tools graph"
   ]
  },
  {
   "cell_type": "code",
   "execution_count": null,
   "metadata": {},
   "outputs": [],
   "source": [
    "from IPython.display import Image, display # type: ignore\n",
    "from conv_agent_with_tools import graph\n",
    "\n",
    "display(Image(graph.get_graph().draw_mermaid_png()))"
   ]
  },
  {
   "cell_type": "code",
   "execution_count": null,
   "metadata": {},
   "outputs": [],
   "source": [
    "# Connect to the LangGraph server and create an assistant\n",
    "from langgraph_sdk import get_client # type: ignore\n",
    "\n",
    "client = get_client(url=\"http://localhost:2024\")\n",
    "\n",
    "assistant = await client.assistants.create(\n",
    "    # graph name from langgraph.json\n",
    "    graph_id=\"conv_agent_with_tools\",\n",
    "    config={\n",
    "        \"recursion_limit\": 1000000000,\n",
    "        \"configurable\": {}\n",
    "    },\n",
    "    name=\"conv_agent_assistant\"\n",
    ")\n",
    "assistant_id = assistant[\"assistant_id\"]\n",
    "print(f\"Assistant created: {assistant_id}\")\n"
   ]
  },
  {
   "cell_type": "code",
   "execution_count": null,
   "metadata": {},
   "outputs": [],
   "source": [
    "# Create a thread to persist conversation state between runs\n",
    "thread = await client.threads.create()\n",
    "thread_id = thread[\"thread_id\"]\n",
    "print(f\"Thread created: {thread_id}\")"
   ]
  },
  {
   "cell_type": "markdown",
   "metadata": {},
   "source": [
    "## Begin chatting with the assistant using the thread_id"
   ]
  },
  {
   "cell_type": "code",
   "execution_count": null,
   "metadata": {},
   "outputs": [],
   "source": [
    "# Infinite conversational loop\n",
    "while True:\n",
    "    try:\n",
    "        user_input = input(\"User: \")\n",
    "        if user_input.lower() in [\"quit\", \"exit\", \"q\"]:\n",
    "            print(\"Goodbye!\")\n",
    "            break\n",
    "\n",
    "        await stream_graph_updates(user_input)\n",
    "    except:\n",
    "        # fallback if input() is not available\n",
    "        user_input = \"What do you know about LangGraph?\"\n",
    "        print(\"User: \" + user_input)\n",
    "        await stream_graph_updates(user_input)\n",
    "        break"
   ]
  }
 ],
 "metadata": {
  "kernelspec": {
   "display_name": "workshop-ia-1-UiGhssET-py3.11",
   "language": "python",
   "name": "python3"
  },
  "language_info": {
   "codemirror_mode": {
    "name": "ipython",
    "version": 3
   },
   "file_extension": ".py",
   "mimetype": "text/x-python",
   "name": "python",
   "nbconvert_exporter": "python",
   "pygments_lexer": "ipython3",
   "version": "3.11.9"
  }
 },
 "nbformat": 4,
 "nbformat_minor": 4
}
